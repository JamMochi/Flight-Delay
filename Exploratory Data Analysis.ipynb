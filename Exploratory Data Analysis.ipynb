{
 "cells": [
  {
   "cell_type": "code",
   "execution_count": 2,
   "metadata": {},
   "outputs": [
    {
     "data": {
      "text/html": [
       "<svg  width=\"550\" height=\"55\"><rect x=\"0\" y=\"0\" width=\"55\" height=\"55\" style=\"fill:#1f77b4;stroke-width:2;stroke:rgb(255,255,255)\"/><rect x=\"55\" y=\"0\" width=\"55\" height=\"55\" style=\"fill:#ff7f0e;stroke-width:2;stroke:rgb(255,255,255)\"/><rect x=\"110\" y=\"0\" width=\"55\" height=\"55\" style=\"fill:#2ca02c;stroke-width:2;stroke:rgb(255,255,255)\"/><rect x=\"165\" y=\"0\" width=\"55\" height=\"55\" style=\"fill:#d62728;stroke-width:2;stroke:rgb(255,255,255)\"/><rect x=\"220\" y=\"0\" width=\"55\" height=\"55\" style=\"fill:#9467bd;stroke-width:2;stroke:rgb(255,255,255)\"/><rect x=\"275\" y=\"0\" width=\"55\" height=\"55\" style=\"fill:#8c564b;stroke-width:2;stroke:rgb(255,255,255)\"/><rect x=\"330\" y=\"0\" width=\"55\" height=\"55\" style=\"fill:#e377c2;stroke-width:2;stroke:rgb(255,255,255)\"/><rect x=\"385\" y=\"0\" width=\"55\" height=\"55\" style=\"fill:#7f7f7f;stroke-width:2;stroke:rgb(255,255,255)\"/><rect x=\"440\" y=\"0\" width=\"55\" height=\"55\" style=\"fill:#bcbd22;stroke-width:2;stroke:rgb(255,255,255)\"/><rect x=\"495\" y=\"0\" width=\"55\" height=\"55\" style=\"fill:#17becf;stroke-width:2;stroke:rgb(255,255,255)\"/></svg>"
      ],
      "text/plain": [
       "[(0.12156862745098039, 0.4666666666666667, 0.7058823529411765),\n",
       " (1.0, 0.4980392156862745, 0.054901960784313725),\n",
       " (0.17254901960784313, 0.6274509803921569, 0.17254901960784313),\n",
       " (0.8392156862745098, 0.15294117647058825, 0.1568627450980392),\n",
       " (0.5803921568627451, 0.403921568627451, 0.7411764705882353),\n",
       " (0.5490196078431373, 0.33725490196078434, 0.29411764705882354),\n",
       " (0.8901960784313725, 0.4666666666666667, 0.7607843137254902),\n",
       " (0.4980392156862745, 0.4980392156862745, 0.4980392156862745),\n",
       " (0.7372549019607844, 0.7411764705882353, 0.13333333333333333),\n",
       " (0.09019607843137255, 0.7450980392156863, 0.8117647058823529)]"
      ]
     },
     "execution_count": 2,
     "metadata": {},
     "output_type": "execute_result"
    }
   ],
   "source": [
    "import pandas as pd\n",
    "import numpy as np\n",
    "import matplotlib.pyplot as plt\n",
    "import seaborn as sns\n",
    "\n",
    "%matplotlib inline\n",
    "\n",
    "pd.pandas.set_option('display.max_columns', None)\n",
    "sns.set_style(\"whitegrid\")\n",
    "sns.color_palette()"
   ]
  },
  {
   "cell_type": "code",
   "execution_count": 3,
   "metadata": {},
   "outputs": [
    {
     "name": "stderr",
     "output_type": "stream",
     "text": [
      "C:\\Users\\henry\\anaconda3\\lib\\site-packages\\IPython\\core\\interactiveshell.py:3063: DtypeWarning: Columns (8,9) have mixed types.Specify dtype option on import or set low_memory=False.\n",
      "  interactivity=interactivity, compiler=compiler, result=result)\n"
     ]
    }
   ],
   "source": [
    "dataset = pd.read_csv(\"C:\\\\Users\\\\henry\\\\Desktop\\\\Flights\\\\clean_flight_df.csv\")"
   ]
  },
  {
   "cell_type": "code",
   "execution_count": 4,
   "metadata": {},
   "outputs": [
    {
     "data": {
      "text/plain": [
       "(5819079, 28)"
      ]
     },
     "execution_count": 4,
     "metadata": {},
     "output_type": "execute_result"
    }
   ],
   "source": [
    "# Check the shape of our data set\n",
    "\n",
    "# Findings -> This dataset contains 28 features\n",
    "dataset.shape"
   ]
  },
  {
   "cell_type": "markdown",
   "metadata": {},
   "source": [
    "#### Cancel Flights cannot have delay, so we are going to filter out our dataset by removing all flights which that are cancelled."
   ]
  },
  {
   "cell_type": "code",
   "execution_count": 5,
   "metadata": {},
   "outputs": [
    {
     "data": {
      "text/plain": [
       "(5729195, 28)"
      ]
     },
     "execution_count": 5,
     "metadata": {},
     "output_type": "execute_result"
    }
   ],
   "source": [
    "dataset = dataset[dataset.CANCELLED == 0]\n",
    "dataset.shape"
   ]
  },
  {
   "cell_type": "code",
   "execution_count": 6,
   "metadata": {},
   "outputs": [
    {
     "data": {
      "text/plain": [
       "Unnamed: 0               int64\n",
       "YEAR                     int64\n",
       "MONTH                    int64\n",
       "DAY                      int64\n",
       "DAY_OF_WEEK              int64\n",
       "AIRLINE                 object\n",
       "FLIGHT_NUMBER            int64\n",
       "TAIL_NUMBER             object\n",
       "ORIGIN_AIRPORT          object\n",
       "DESTINATION_AIRPORT     object\n",
       "SCHEDULED_DEPARTURE     object\n",
       "DEPARTURE_TIME          object\n",
       "DEPARTURE_DELAY        float64\n",
       "TAXI_OUT               float64\n",
       "WHEELS_OFF             float64\n",
       "SCHEDULED_TIME         float64\n",
       "ELAPSED_TIME           float64\n",
       "AIR_TIME               float64\n",
       "DISTANCE                 int64\n",
       "WHEELS_ON              float64\n",
       "TAXI_IN                float64\n",
       "SCHEDULED_ARRIVAL       object\n",
       "ARRIVAL_TIME            object\n",
       "ARRIVAL_DELAY          float64\n",
       "DIVERTED                 int64\n",
       "CANCELLED                int64\n",
       "CANCELLATION_REASON     object\n",
       "DATE                    object\n",
       "dtype: object"
      ]
     },
     "execution_count": 6,
     "metadata": {},
     "output_type": "execute_result"
    }
   ],
   "source": [
    "dataset.dtypes"
   ]
  },
  {
   "cell_type": "code",
   "execution_count": 7,
   "metadata": {},
   "outputs": [
    {
     "data": {
      "text/html": [
       "<div>\n",
       "<style scoped>\n",
       "    .dataframe tbody tr th:only-of-type {\n",
       "        vertical-align: middle;\n",
       "    }\n",
       "\n",
       "    .dataframe tbody tr th {\n",
       "        vertical-align: top;\n",
       "    }\n",
       "\n",
       "    .dataframe thead th {\n",
       "        text-align: right;\n",
       "    }\n",
       "</style>\n",
       "<table border=\"1\" class=\"dataframe\">\n",
       "  <thead>\n",
       "    <tr style=\"text-align: right;\">\n",
       "      <th></th>\n",
       "      <th>Unnamed: 0</th>\n",
       "      <th>YEAR</th>\n",
       "      <th>MONTH</th>\n",
       "      <th>DAY</th>\n",
       "      <th>DAY_OF_WEEK</th>\n",
       "      <th>AIRLINE</th>\n",
       "      <th>FLIGHT_NUMBER</th>\n",
       "      <th>TAIL_NUMBER</th>\n",
       "      <th>ORIGIN_AIRPORT</th>\n",
       "      <th>DESTINATION_AIRPORT</th>\n",
       "      <th>SCHEDULED_DEPARTURE</th>\n",
       "      <th>DEPARTURE_TIME</th>\n",
       "      <th>DEPARTURE_DELAY</th>\n",
       "      <th>TAXI_OUT</th>\n",
       "      <th>WHEELS_OFF</th>\n",
       "      <th>SCHEDULED_TIME</th>\n",
       "      <th>ELAPSED_TIME</th>\n",
       "      <th>AIR_TIME</th>\n",
       "      <th>DISTANCE</th>\n",
       "      <th>WHEELS_ON</th>\n",
       "      <th>TAXI_IN</th>\n",
       "      <th>SCHEDULED_ARRIVAL</th>\n",
       "      <th>ARRIVAL_TIME</th>\n",
       "      <th>ARRIVAL_DELAY</th>\n",
       "      <th>DIVERTED</th>\n",
       "      <th>CANCELLED</th>\n",
       "      <th>CANCELLATION_REASON</th>\n",
       "      <th>DATE</th>\n",
       "    </tr>\n",
       "  </thead>\n",
       "  <tbody>\n",
       "    <tr>\n",
       "      <th>0</th>\n",
       "      <td>0</td>\n",
       "      <td>2015</td>\n",
       "      <td>1</td>\n",
       "      <td>1</td>\n",
       "      <td>4</td>\n",
       "      <td>AS</td>\n",
       "      <td>98</td>\n",
       "      <td>N407AS</td>\n",
       "      <td>ANC</td>\n",
       "      <td>SEA</td>\n",
       "      <td>00:05:00</td>\n",
       "      <td>23:54:00</td>\n",
       "      <td>-11.0</td>\n",
       "      <td>21.0</td>\n",
       "      <td>15.0</td>\n",
       "      <td>205.0</td>\n",
       "      <td>194.0</td>\n",
       "      <td>169.0</td>\n",
       "      <td>1448</td>\n",
       "      <td>404.0</td>\n",
       "      <td>4.0</td>\n",
       "      <td>04:30:00</td>\n",
       "      <td>04:08:00</td>\n",
       "      <td>-22.0</td>\n",
       "      <td>0</td>\n",
       "      <td>0</td>\n",
       "      <td>ON</td>\n",
       "      <td>2015-01-01</td>\n",
       "    </tr>\n",
       "    <tr>\n",
       "      <th>1</th>\n",
       "      <td>1</td>\n",
       "      <td>2015</td>\n",
       "      <td>1</td>\n",
       "      <td>1</td>\n",
       "      <td>4</td>\n",
       "      <td>AA</td>\n",
       "      <td>2336</td>\n",
       "      <td>N3KUAA</td>\n",
       "      <td>LAX</td>\n",
       "      <td>PBI</td>\n",
       "      <td>00:10:00</td>\n",
       "      <td>00:02:00</td>\n",
       "      <td>-8.0</td>\n",
       "      <td>12.0</td>\n",
       "      <td>14.0</td>\n",
       "      <td>280.0</td>\n",
       "      <td>279.0</td>\n",
       "      <td>263.0</td>\n",
       "      <td>2330</td>\n",
       "      <td>737.0</td>\n",
       "      <td>4.0</td>\n",
       "      <td>07:50:00</td>\n",
       "      <td>07:41:00</td>\n",
       "      <td>-9.0</td>\n",
       "      <td>0</td>\n",
       "      <td>0</td>\n",
       "      <td>ON</td>\n",
       "      <td>2015-01-01</td>\n",
       "    </tr>\n",
       "    <tr>\n",
       "      <th>2</th>\n",
       "      <td>2</td>\n",
       "      <td>2015</td>\n",
       "      <td>1</td>\n",
       "      <td>1</td>\n",
       "      <td>4</td>\n",
       "      <td>US</td>\n",
       "      <td>840</td>\n",
       "      <td>N171US</td>\n",
       "      <td>SFO</td>\n",
       "      <td>CLT</td>\n",
       "      <td>00:20:00</td>\n",
       "      <td>00:18:00</td>\n",
       "      <td>-2.0</td>\n",
       "      <td>16.0</td>\n",
       "      <td>34.0</td>\n",
       "      <td>286.0</td>\n",
       "      <td>293.0</td>\n",
       "      <td>266.0</td>\n",
       "      <td>2296</td>\n",
       "      <td>800.0</td>\n",
       "      <td>11.0</td>\n",
       "      <td>08:06:00</td>\n",
       "      <td>08:11:00</td>\n",
       "      <td>5.0</td>\n",
       "      <td>0</td>\n",
       "      <td>0</td>\n",
       "      <td>ON</td>\n",
       "      <td>2015-01-01</td>\n",
       "    </tr>\n",
       "    <tr>\n",
       "      <th>3</th>\n",
       "      <td>3</td>\n",
       "      <td>2015</td>\n",
       "      <td>1</td>\n",
       "      <td>1</td>\n",
       "      <td>4</td>\n",
       "      <td>AA</td>\n",
       "      <td>258</td>\n",
       "      <td>N3HYAA</td>\n",
       "      <td>LAX</td>\n",
       "      <td>MIA</td>\n",
       "      <td>00:20:00</td>\n",
       "      <td>00:15:00</td>\n",
       "      <td>-5.0</td>\n",
       "      <td>15.0</td>\n",
       "      <td>30.0</td>\n",
       "      <td>285.0</td>\n",
       "      <td>281.0</td>\n",
       "      <td>258.0</td>\n",
       "      <td>2342</td>\n",
       "      <td>748.0</td>\n",
       "      <td>8.0</td>\n",
       "      <td>08:05:00</td>\n",
       "      <td>07:56:00</td>\n",
       "      <td>-9.0</td>\n",
       "      <td>0</td>\n",
       "      <td>0</td>\n",
       "      <td>ON</td>\n",
       "      <td>2015-01-01</td>\n",
       "    </tr>\n",
       "    <tr>\n",
       "      <th>4</th>\n",
       "      <td>4</td>\n",
       "      <td>2015</td>\n",
       "      <td>1</td>\n",
       "      <td>1</td>\n",
       "      <td>4</td>\n",
       "      <td>AS</td>\n",
       "      <td>135</td>\n",
       "      <td>N527AS</td>\n",
       "      <td>SEA</td>\n",
       "      <td>ANC</td>\n",
       "      <td>00:25:00</td>\n",
       "      <td>00:24:00</td>\n",
       "      <td>-1.0</td>\n",
       "      <td>11.0</td>\n",
       "      <td>35.0</td>\n",
       "      <td>235.0</td>\n",
       "      <td>215.0</td>\n",
       "      <td>199.0</td>\n",
       "      <td>1448</td>\n",
       "      <td>254.0</td>\n",
       "      <td>5.0</td>\n",
       "      <td>03:20:00</td>\n",
       "      <td>02:59:00</td>\n",
       "      <td>-21.0</td>\n",
       "      <td>0</td>\n",
       "      <td>0</td>\n",
       "      <td>ON</td>\n",
       "      <td>2015-01-01</td>\n",
       "    </tr>\n",
       "  </tbody>\n",
       "</table>\n",
       "</div>"
      ],
      "text/plain": [
       "   Unnamed: 0  YEAR  MONTH  DAY  DAY_OF_WEEK AIRLINE  FLIGHT_NUMBER  \\\n",
       "0           0  2015      1    1            4      AS             98   \n",
       "1           1  2015      1    1            4      AA           2336   \n",
       "2           2  2015      1    1            4      US            840   \n",
       "3           3  2015      1    1            4      AA            258   \n",
       "4           4  2015      1    1            4      AS            135   \n",
       "\n",
       "  TAIL_NUMBER ORIGIN_AIRPORT DESTINATION_AIRPORT SCHEDULED_DEPARTURE  \\\n",
       "0      N407AS            ANC                 SEA            00:05:00   \n",
       "1      N3KUAA            LAX                 PBI            00:10:00   \n",
       "2      N171US            SFO                 CLT            00:20:00   \n",
       "3      N3HYAA            LAX                 MIA            00:20:00   \n",
       "4      N527AS            SEA                 ANC            00:25:00   \n",
       "\n",
       "  DEPARTURE_TIME  DEPARTURE_DELAY  TAXI_OUT  WHEELS_OFF  SCHEDULED_TIME  \\\n",
       "0       23:54:00            -11.0      21.0        15.0           205.0   \n",
       "1       00:02:00             -8.0      12.0        14.0           280.0   \n",
       "2       00:18:00             -2.0      16.0        34.0           286.0   \n",
       "3       00:15:00             -5.0      15.0        30.0           285.0   \n",
       "4       00:24:00             -1.0      11.0        35.0           235.0   \n",
       "\n",
       "   ELAPSED_TIME  AIR_TIME  DISTANCE  WHEELS_ON  TAXI_IN SCHEDULED_ARRIVAL  \\\n",
       "0         194.0     169.0      1448      404.0      4.0          04:30:00   \n",
       "1         279.0     263.0      2330      737.0      4.0          07:50:00   \n",
       "2         293.0     266.0      2296      800.0     11.0          08:06:00   \n",
       "3         281.0     258.0      2342      748.0      8.0          08:05:00   \n",
       "4         215.0     199.0      1448      254.0      5.0          03:20:00   \n",
       "\n",
       "  ARRIVAL_TIME  ARRIVAL_DELAY  DIVERTED  CANCELLED CANCELLATION_REASON  \\\n",
       "0     04:08:00          -22.0         0          0                  ON   \n",
       "1     07:41:00           -9.0         0          0                  ON   \n",
       "2     08:11:00            5.0         0          0                  ON   \n",
       "3     07:56:00           -9.0         0          0                  ON   \n",
       "4     02:59:00          -21.0         0          0                  ON   \n",
       "\n",
       "         DATE  \n",
       "0  2015-01-01  \n",
       "1  2015-01-01  \n",
       "2  2015-01-01  \n",
       "3  2015-01-01  \n",
       "4  2015-01-01  "
      ]
     },
     "execution_count": 7,
     "metadata": {},
     "output_type": "execute_result"
    }
   ],
   "source": [
    "dataset.head()"
   ]
  },
  {
   "cell_type": "code",
   "execution_count": 8,
   "metadata": {},
   "outputs": [],
   "source": [
    "# This dataset contains several columns we don't need for analysis and for our model\n",
    "\n",
    "dataset.drop(['Unnamed: 0', 'YEAR', 'MONTH', 'DAY', 'CANCELLED', 'CANCELLATION_REASON'], axis=1, inplace=True)"
   ]
  },
  {
   "cell_type": "markdown",
   "metadata": {},
   "source": [
    "# Numerical Variables ( Features ) and Distribution of Numerical Variables"
   ]
  },
  {
   "cell_type": "code",
   "execution_count": 9,
   "metadata": {},
   "outputs": [
    {
     "name": "stdout",
     "output_type": "stream",
     "text": [
      "Number of Numerical Features: 13\n"
     ]
    },
    {
     "data": {
      "text/html": [
       "<div>\n",
       "<style scoped>\n",
       "    .dataframe tbody tr th:only-of-type {\n",
       "        vertical-align: middle;\n",
       "    }\n",
       "\n",
       "    .dataframe tbody tr th {\n",
       "        vertical-align: top;\n",
       "    }\n",
       "\n",
       "    .dataframe thead th {\n",
       "        text-align: right;\n",
       "    }\n",
       "</style>\n",
       "<table border=\"1\" class=\"dataframe\">\n",
       "  <thead>\n",
       "    <tr style=\"text-align: right;\">\n",
       "      <th></th>\n",
       "      <th>DAY_OF_WEEK</th>\n",
       "      <th>FLIGHT_NUMBER</th>\n",
       "      <th>DEPARTURE_DELAY</th>\n",
       "      <th>TAXI_OUT</th>\n",
       "      <th>WHEELS_OFF</th>\n",
       "      <th>SCHEDULED_TIME</th>\n",
       "      <th>ELAPSED_TIME</th>\n",
       "      <th>AIR_TIME</th>\n",
       "      <th>DISTANCE</th>\n",
       "      <th>WHEELS_ON</th>\n",
       "      <th>TAXI_IN</th>\n",
       "      <th>ARRIVAL_DELAY</th>\n",
       "      <th>DIVERTED</th>\n",
       "    </tr>\n",
       "  </thead>\n",
       "  <tbody>\n",
       "    <tr>\n",
       "      <th>0</th>\n",
       "      <td>4</td>\n",
       "      <td>98</td>\n",
       "      <td>-11.0</td>\n",
       "      <td>21.0</td>\n",
       "      <td>15.0</td>\n",
       "      <td>205.0</td>\n",
       "      <td>194.0</td>\n",
       "      <td>169.0</td>\n",
       "      <td>1448</td>\n",
       "      <td>404.0</td>\n",
       "      <td>4.0</td>\n",
       "      <td>-22.0</td>\n",
       "      <td>0</td>\n",
       "    </tr>\n",
       "    <tr>\n",
       "      <th>1</th>\n",
       "      <td>4</td>\n",
       "      <td>2336</td>\n",
       "      <td>-8.0</td>\n",
       "      <td>12.0</td>\n",
       "      <td>14.0</td>\n",
       "      <td>280.0</td>\n",
       "      <td>279.0</td>\n",
       "      <td>263.0</td>\n",
       "      <td>2330</td>\n",
       "      <td>737.0</td>\n",
       "      <td>4.0</td>\n",
       "      <td>-9.0</td>\n",
       "      <td>0</td>\n",
       "    </tr>\n",
       "    <tr>\n",
       "      <th>2</th>\n",
       "      <td>4</td>\n",
       "      <td>840</td>\n",
       "      <td>-2.0</td>\n",
       "      <td>16.0</td>\n",
       "      <td>34.0</td>\n",
       "      <td>286.0</td>\n",
       "      <td>293.0</td>\n",
       "      <td>266.0</td>\n",
       "      <td>2296</td>\n",
       "      <td>800.0</td>\n",
       "      <td>11.0</td>\n",
       "      <td>5.0</td>\n",
       "      <td>0</td>\n",
       "    </tr>\n",
       "    <tr>\n",
       "      <th>3</th>\n",
       "      <td>4</td>\n",
       "      <td>258</td>\n",
       "      <td>-5.0</td>\n",
       "      <td>15.0</td>\n",
       "      <td>30.0</td>\n",
       "      <td>285.0</td>\n",
       "      <td>281.0</td>\n",
       "      <td>258.0</td>\n",
       "      <td>2342</td>\n",
       "      <td>748.0</td>\n",
       "      <td>8.0</td>\n",
       "      <td>-9.0</td>\n",
       "      <td>0</td>\n",
       "    </tr>\n",
       "    <tr>\n",
       "      <th>4</th>\n",
       "      <td>4</td>\n",
       "      <td>135</td>\n",
       "      <td>-1.0</td>\n",
       "      <td>11.0</td>\n",
       "      <td>35.0</td>\n",
       "      <td>235.0</td>\n",
       "      <td>215.0</td>\n",
       "      <td>199.0</td>\n",
       "      <td>1448</td>\n",
       "      <td>254.0</td>\n",
       "      <td>5.0</td>\n",
       "      <td>-21.0</td>\n",
       "      <td>0</td>\n",
       "    </tr>\n",
       "  </tbody>\n",
       "</table>\n",
       "</div>"
      ],
      "text/plain": [
       "   DAY_OF_WEEK  FLIGHT_NUMBER  DEPARTURE_DELAY  TAXI_OUT  WHEELS_OFF  \\\n",
       "0            4             98            -11.0      21.0        15.0   \n",
       "1            4           2336             -8.0      12.0        14.0   \n",
       "2            4            840             -2.0      16.0        34.0   \n",
       "3            4            258             -5.0      15.0        30.0   \n",
       "4            4            135             -1.0      11.0        35.0   \n",
       "\n",
       "   SCHEDULED_TIME  ELAPSED_TIME  AIR_TIME  DISTANCE  WHEELS_ON  TAXI_IN  \\\n",
       "0           205.0         194.0     169.0      1448      404.0      4.0   \n",
       "1           280.0         279.0     263.0      2330      737.0      4.0   \n",
       "2           286.0         293.0     266.0      2296      800.0     11.0   \n",
       "3           285.0         281.0     258.0      2342      748.0      8.0   \n",
       "4           235.0         215.0     199.0      1448      254.0      5.0   \n",
       "\n",
       "   ARRIVAL_DELAY  DIVERTED  \n",
       "0          -22.0         0  \n",
       "1           -9.0         0  \n",
       "2            5.0         0  \n",
       "3           -9.0         0  \n",
       "4          -21.0         0  "
      ]
     },
     "execution_count": 9,
     "metadata": {},
     "output_type": "execute_result"
    }
   ],
   "source": [
    "# Get all the numerical features from our dataset\n",
    "numerical_features = [feature for feature in dataset.columns if dataset[feature].dtype != 'O']\n",
    "\n",
    "print(f'Number of Numerical Features: {len(numerical_features)}')\n",
    "\n",
    "# Overview of our dataframe w/ only numerical featuers\n",
    "dataset[numerical_features].head()"
   ]
  },
  {
   "cell_type": "markdown",
   "metadata": {},
   "source": [
    "# Discrete Features"
   ]
  },
  {
   "cell_type": "code",
   "execution_count": 10,
   "metadata": {
    "scrolled": true
   },
   "outputs": [
    {
     "name": "stdout",
     "output_type": "stream",
     "text": [
      "Numer of Discrete Features: 2\n"
     ]
    },
    {
     "data": {
      "text/html": [
       "<div>\n",
       "<style scoped>\n",
       "    .dataframe tbody tr th:only-of-type {\n",
       "        vertical-align: middle;\n",
       "    }\n",
       "\n",
       "    .dataframe tbody tr th {\n",
       "        vertical-align: top;\n",
       "    }\n",
       "\n",
       "    .dataframe thead th {\n",
       "        text-align: right;\n",
       "    }\n",
       "</style>\n",
       "<table border=\"1\" class=\"dataframe\">\n",
       "  <thead>\n",
       "    <tr style=\"text-align: right;\">\n",
       "      <th></th>\n",
       "      <th>DAY_OF_WEEK</th>\n",
       "      <th>DIVERTED</th>\n",
       "    </tr>\n",
       "  </thead>\n",
       "  <tbody>\n",
       "    <tr>\n",
       "      <th>0</th>\n",
       "      <td>4</td>\n",
       "      <td>0</td>\n",
       "    </tr>\n",
       "    <tr>\n",
       "      <th>1</th>\n",
       "      <td>4</td>\n",
       "      <td>0</td>\n",
       "    </tr>\n",
       "    <tr>\n",
       "      <th>2</th>\n",
       "      <td>4</td>\n",
       "      <td>0</td>\n",
       "    </tr>\n",
       "    <tr>\n",
       "      <th>3</th>\n",
       "      <td>4</td>\n",
       "      <td>0</td>\n",
       "    </tr>\n",
       "    <tr>\n",
       "      <th>4</th>\n",
       "      <td>4</td>\n",
       "      <td>0</td>\n",
       "    </tr>\n",
       "  </tbody>\n",
       "</table>\n",
       "</div>"
      ],
      "text/plain": [
       "   DAY_OF_WEEK  DIVERTED\n",
       "0            4         0\n",
       "1            4         0\n",
       "2            4         0\n",
       "3            4         0\n",
       "4            4         0"
      ]
     },
     "execution_count": 10,
     "metadata": {},
     "output_type": "execute_result"
    }
   ],
   "source": [
    "discrete_features = [feature for feature in numerical_features if len(dataset[feature].unique()) <= 25]\n",
    "\n",
    "print(f'Numer of Discrete Features: {len(discrete_features)}')\n",
    "\n",
    "dataset[discrete_features].head()"
   ]
  },
  {
   "cell_type": "markdown",
   "metadata": {},
   "source": [
    "#### In this notebook, we are trying to predict teh departure delay. We will look at each of the discrete variable to see the impact it has on departure_delay."
   ]
  },
  {
   "cell_type": "code",
   "execution_count": 11,
   "metadata": {
    "scrolled": true
   },
   "outputs": [
    {
     "data": {
      "image/png": "[encoded data removed]",
      "text/plain": [
       "<Figure size 432x288 with 1 Axes>"
      ]
     },
     "metadata": {},
     "output_type": "display_data"
    },
    {
     "data": {
      "image/png": "[encoded data removed]",
      "text/plain": [
       "<Figure size 432x288 with 1 Axes>"
      ]
     },
     "metadata": {},
     "output_type": "display_data"
    }
   ],
   "source": [
    "for feature in discrete_features:  \n",
    "    data = dataset.copy()\n",
    "    data = data.groupby(feature)['DEPARTURE_DELAY'].median()\n",
    "    sns.barplot(x=data.index, y=data.values)\n",
    "    plt.show()"
   ]
  },
  {
   "cell_type": "markdown",
   "metadata": {},
   "source": [
    "#### The previous two graphs gives us some good insight. It seems most of the time departure delay doesn't really happen. It also seems like departure delay occurs much more frequently given that flight is actually delayed.\n",
    "\n",
    "#### Since departure delay is actually rare, we will now take a deep look in the event there is actually delay what actually happens."
   ]
  },
  {
   "cell_type": "code",
   "execution_count": 12,
   "metadata": {
    "scrolled": true
   },
   "outputs": [
    {
     "data": {
      "image/png": "[encoded data removed]",
      "text/plain": [
       "<Figure size 432x288 with 1 Axes>"
      ]
     },
     "metadata": {},
     "output_type": "display_data"
    },
    {
     "data": {
      "image/png": "[encoded data removed]",
      "text/plain": [
       "<Figure size 432x288 with 1 Axes>"
      ]
     },
     "metadata": {},
     "output_type": "display_data"
    }
   ],
   "source": [
    "for feature in discrete_features:\n",
    "    data = dataset.copy()\n",
    "    data = data[data.DEPARTURE_DELAY > 0]\n",
    "    data = data.groupby(feature)['DEPARTURE_DELAY'].median()\n",
    "    sns.barplot(x=data.index, y=data.values)\n",
    "    plt.show()"
   ]
  },
  {
   "cell_type": "markdown",
   "metadata": {},
   "source": [
    "#### Nothing too unusual with day of the week, relatively uniform. Given that a flight is diverted it seems like the time of delay actual increases. This is nothing out of the ordinary and it is to be expected."
   ]
  },
  {
   "cell_type": "markdown",
   "metadata": {},
   "source": [
    "#### Through the filtering we applied to our dataset, we can see that the dataset does not contain many discrete features. We can conclude that majority of our numerical features are continuous."
   ]
  },
  {
   "cell_type": "markdown",
   "metadata": {},
   "source": [
    "# Continuous Features"
   ]
  },
  {
   "cell_type": "code",
   "execution_count": 13,
   "metadata": {},
   "outputs": [
    {
     "name": "stdout",
     "output_type": "stream",
     "text": [
      "Number of Continuous Features: 11\n"
     ]
    },
    {
     "data": {
      "text/html": [
       "<div>\n",
       "<style scoped>\n",
       "    .dataframe tbody tr th:only-of-type {\n",
       "        vertical-align: middle;\n",
       "    }\n",
       "\n",
       "    .dataframe tbody tr th {\n",
       "        vertical-align: top;\n",
       "    }\n",
       "\n",
       "    .dataframe thead th {\n",
       "        text-align: right;\n",
       "    }\n",
       "</style>\n",
       "<table border=\"1\" class=\"dataframe\">\n",
       "  <thead>\n",
       "    <tr style=\"text-align: right;\">\n",
       "      <th></th>\n",
       "      <th>FLIGHT_NUMBER</th>\n",
       "      <th>DEPARTURE_DELAY</th>\n",
       "      <th>TAXI_OUT</th>\n",
       "      <th>WHEELS_OFF</th>\n",
       "      <th>SCHEDULED_TIME</th>\n",
       "      <th>ELAPSED_TIME</th>\n",
       "      <th>AIR_TIME</th>\n",
       "      <th>DISTANCE</th>\n",
       "      <th>WHEELS_ON</th>\n",
       "      <th>TAXI_IN</th>\n",
       "      <th>ARRIVAL_DELAY</th>\n",
       "    </tr>\n",
       "  </thead>\n",
       "  <tbody>\n",
       "    <tr>\n",
       "      <th>0</th>\n",
       "      <td>98</td>\n",
       "      <td>-11.0</td>\n",
       "      <td>21.0</td>\n",
       "      <td>15.0</td>\n",
       "      <td>205.0</td>\n",
       "      <td>194.0</td>\n",
       "      <td>169.0</td>\n",
       "      <td>1448</td>\n",
       "      <td>404.0</td>\n",
       "      <td>4.0</td>\n",
       "      <td>-22.0</td>\n",
       "    </tr>\n",
       "    <tr>\n",
       "      <th>1</th>\n",
       "      <td>2336</td>\n",
       "      <td>-8.0</td>\n",
       "      <td>12.0</td>\n",
       "      <td>14.0</td>\n",
       "      <td>280.0</td>\n",
       "      <td>279.0</td>\n",
       "      <td>263.0</td>\n",
       "      <td>2330</td>\n",
       "      <td>737.0</td>\n",
       "      <td>4.0</td>\n",
       "      <td>-9.0</td>\n",
       "    </tr>\n",
       "    <tr>\n",
       "      <th>2</th>\n",
       "      <td>840</td>\n",
       "      <td>-2.0</td>\n",
       "      <td>16.0</td>\n",
       "      <td>34.0</td>\n",
       "      <td>286.0</td>\n",
       "      <td>293.0</td>\n",
       "      <td>266.0</td>\n",
       "      <td>2296</td>\n",
       "      <td>800.0</td>\n",
       "      <td>11.0</td>\n",
       "      <td>5.0</td>\n",
       "    </tr>\n",
       "    <tr>\n",
       "      <th>3</th>\n",
       "      <td>258</td>\n",
       "      <td>-5.0</td>\n",
       "      <td>15.0</td>\n",
       "      <td>30.0</td>\n",
       "      <td>285.0</td>\n",
       "      <td>281.0</td>\n",
       "      <td>258.0</td>\n",
       "      <td>2342</td>\n",
       "      <td>748.0</td>\n",
       "      <td>8.0</td>\n",
       "      <td>-9.0</td>\n",
       "    </tr>\n",
       "    <tr>\n",
       "      <th>4</th>\n",
       "      <td>135</td>\n",
       "      <td>-1.0</td>\n",
       "      <td>11.0</td>\n",
       "      <td>35.0</td>\n",
       "      <td>235.0</td>\n",
       "      <td>215.0</td>\n",
       "      <td>199.0</td>\n",
       "      <td>1448</td>\n",
       "      <td>254.0</td>\n",
       "      <td>5.0</td>\n",
       "      <td>-21.0</td>\n",
       "    </tr>\n",
       "  </tbody>\n",
       "</table>\n",
       "</div>"
      ],
      "text/plain": [
       "   FLIGHT_NUMBER  DEPARTURE_DELAY  TAXI_OUT  WHEELS_OFF  SCHEDULED_TIME  \\\n",
       "0             98            -11.0      21.0        15.0           205.0   \n",
       "1           2336             -8.0      12.0        14.0           280.0   \n",
       "2            840             -2.0      16.0        34.0           286.0   \n",
       "3            258             -5.0      15.0        30.0           285.0   \n",
       "4            135             -1.0      11.0        35.0           235.0   \n",
       "\n",
       "   ELAPSED_TIME  AIR_TIME  DISTANCE  WHEELS_ON  TAXI_IN  ARRIVAL_DELAY  \n",
       "0         194.0     169.0      1448      404.0      4.0          -22.0  \n",
       "1         279.0     263.0      2330      737.0      4.0           -9.0  \n",
       "2         293.0     266.0      2296      800.0     11.0            5.0  \n",
       "3         281.0     258.0      2342      748.0      8.0           -9.0  \n",
       "4         215.0     199.0      1448      254.0      5.0          -21.0  "
      ]
     },
     "execution_count": 13,
     "metadata": {},
     "output_type": "execute_result"
    }
   ],
   "source": [
    "continuous_features = [feature for feature in numerical_features if feature not in discrete_features]\n",
    "\n",
    "print(f'Number of Continuous Features: {len(continuous_features)}')\n",
    "\n",
    "dataset[continuous_features].head()"
   ]
  },
  {
   "cell_type": "code",
   "execution_count": 17,
   "metadata": {
    "scrolled": false
   },
   "outputs": [
    {
     "data": {
      "image/png": "[encoded data removed]",
      "text/plain": [
       "<Figure size 412.75x360 with 1 Axes>"
      ]
     },
     "metadata": {},
     "output_type": "display_data"
    },
    {
     "data": {
      "image/png": "[encoded data removed]",
      "text/plain": [
       "<Figure size 412.75x360 with 1 Axes>"
      ]
     },
     "metadata": {},
     "output_type": "display_data"
    },
    {
     "data": {
      "image/png": "[encoded data removed]",
      "text/plain": [
       "<Figure size 412.75x360 with 1 Axes>"
      ]
     },
     "metadata": {},
     "output_type": "display_data"
    },
    {
     "data": {
      "image/png": "[encoded data removed]",
      "text/plain": [
       "<Figure size 412.75x360 with 1 Axes>"
      ]
     },
     "metadata": {},
     "output_type": "display_data"
    },
    {
     "data": {
      "image/png": "[encoded data removed]",
      "text/plain": [
       "<Figure size 412.75x360 with 1 Axes>"
      ]
     },
     "metadata": {},
     "output_type": "display_data"
    },
    {
     "data": {
      "image/png": "[encoded data removed]",
      "text/plain": [
       "<Figure size 412.75x360 with 1 Axes>"
      ]
     },
     "metadata": {},
     "output_type": "display_data"
    },
    {
     "data": {
      "image/png": "[encoded data removed]",
      "text/plain": [
       "<Figure size 412.75x360 with 1 Axes>"
      ]
     },
     "metadata": {},
     "output_type": "display_data"
    },
    {
     "data": {
      "image/png": "[encoded data removed]",
      "text/plain": [
       "<Figure size 412.75x360 with 1 Axes>"
      ]
     },
     "metadata": {},
     "output_type": "display_data"
    },
    {
     "data": {
      "image/png": "[encoded data removed]",
      "text/plain": [
       "<Figure size 412.75x360 with 1 Axes>"
      ]
     },
     "metadata": {},
     "output_type": "display_data"
    },
    {
     "data": {
      "image/png": "[encoded data removed]",
      "text/plain": [
       "<Figure size 412.75x360 with 1 Axes>"
      ]
     },
     "metadata": {},
     "output_type": "display_data"
    },
    {
     "data": {
      "image/png": "[encoded data removed]",
      "text/plain": [
       "<Figure size 412.75x360 with 1 Axes>"
      ]
     },
     "metadata": {},
     "output_type": "display_data"
    }
   ],
   "source": [
    "# Overview on the continuous_features distribution\n",
    "# We will also like to look at the distribute with the extra information -> airlines\n",
    "\n",
    "for feature in continuous_features:\n",
    "    \n",
    "    data = dataset.copy()\n",
    "    data = dataset[dataset.DEPARTURE_DELAY > 0]\n",
    "    sns.displot(data, x=feature, bins=30, hue='AIRLINE')\n",
    "    plt.show()"
   ]
  },
  {
   "cell_type": "markdown",
   "metadata": {},
   "source": [
    "# Categorical Variables ( Features )"
   ]
  },
  {
   "cell_type": "code",
   "execution_count": 18,
   "metadata": {},
   "outputs": [
    {
     "name": "stdout",
     "output_type": "stream",
     "text": [
      "Number of Categorical Features: 9\n"
     ]
    },
    {
     "data": {
      "text/html": [
       "<div>\n",
       "<style scoped>\n",
       "    .dataframe tbody tr th:only-of-type {\n",
       "        vertical-align: middle;\n",
       "    }\n",
       "\n",
       "    .dataframe tbody tr th {\n",
       "        vertical-align: top;\n",
       "    }\n",
       "\n",
       "    .dataframe thead th {\n",
       "        text-align: right;\n",
       "    }\n",
       "</style>\n",
       "<table border=\"1\" class=\"dataframe\">\n",
       "  <thead>\n",
       "    <tr style=\"text-align: right;\">\n",
       "      <th></th>\n",
       "      <th>AIRLINE</th>\n",
       "      <th>TAIL_NUMBER</th>\n",
       "      <th>ORIGIN_AIRPORT</th>\n",
       "      <th>DESTINATION_AIRPORT</th>\n",
       "      <th>SCHEDULED_DEPARTURE</th>\n",
       "      <th>DEPARTURE_TIME</th>\n",
       "      <th>SCHEDULED_ARRIVAL</th>\n",
       "      <th>ARRIVAL_TIME</th>\n",
       "      <th>DATE</th>\n",
       "    </tr>\n",
       "  </thead>\n",
       "  <tbody>\n",
       "    <tr>\n",
       "      <th>0</th>\n",
       "      <td>AS</td>\n",
       "      <td>N407AS</td>\n",
       "      <td>ANC</td>\n",
       "      <td>SEA</td>\n",
       "      <td>00:05:00</td>\n",
       "      <td>23:54:00</td>\n",
       "      <td>04:30:00</td>\n",
       "      <td>04:08:00</td>\n",
       "      <td>2015-01-01</td>\n",
       "    </tr>\n",
       "    <tr>\n",
       "      <th>1</th>\n",
       "      <td>AA</td>\n",
       "      <td>N3KUAA</td>\n",
       "      <td>LAX</td>\n",
       "      <td>PBI</td>\n",
       "      <td>00:10:00</td>\n",
       "      <td>00:02:00</td>\n",
       "      <td>07:50:00</td>\n",
       "      <td>07:41:00</td>\n",
       "      <td>2015-01-01</td>\n",
       "    </tr>\n",
       "    <tr>\n",
       "      <th>2</th>\n",
       "      <td>US</td>\n",
       "      <td>N171US</td>\n",
       "      <td>SFO</td>\n",
       "      <td>CLT</td>\n",
       "      <td>00:20:00</td>\n",
       "      <td>00:18:00</td>\n",
       "      <td>08:06:00</td>\n",
       "      <td>08:11:00</td>\n",
       "      <td>2015-01-01</td>\n",
       "    </tr>\n",
       "    <tr>\n",
       "      <th>3</th>\n",
       "      <td>AA</td>\n",
       "      <td>N3HYAA</td>\n",
       "      <td>LAX</td>\n",
       "      <td>MIA</td>\n",
       "      <td>00:20:00</td>\n",
       "      <td>00:15:00</td>\n",
       "      <td>08:05:00</td>\n",
       "      <td>07:56:00</td>\n",
       "      <td>2015-01-01</td>\n",
       "    </tr>\n",
       "    <tr>\n",
       "      <th>4</th>\n",
       "      <td>AS</td>\n",
       "      <td>N527AS</td>\n",
       "      <td>SEA</td>\n",
       "      <td>ANC</td>\n",
       "      <td>00:25:00</td>\n",
       "      <td>00:24:00</td>\n",
       "      <td>03:20:00</td>\n",
       "      <td>02:59:00</td>\n",
       "      <td>2015-01-01</td>\n",
       "    </tr>\n",
       "  </tbody>\n",
       "</table>\n",
       "</div>"
      ],
      "text/plain": [
       "  AIRLINE TAIL_NUMBER ORIGIN_AIRPORT DESTINATION_AIRPORT SCHEDULED_DEPARTURE  \\\n",
       "0      AS      N407AS            ANC                 SEA            00:05:00   \n",
       "1      AA      N3KUAA            LAX                 PBI            00:10:00   \n",
       "2      US      N171US            SFO                 CLT            00:20:00   \n",
       "3      AA      N3HYAA            LAX                 MIA            00:20:00   \n",
       "4      AS      N527AS            SEA                 ANC            00:25:00   \n",
       "\n",
       "  DEPARTURE_TIME SCHEDULED_ARRIVAL ARRIVAL_TIME        DATE  \n",
       "0       23:54:00          04:30:00     04:08:00  2015-01-01  \n",
       "1       00:02:00          07:50:00     07:41:00  2015-01-01  \n",
       "2       00:18:00          08:06:00     08:11:00  2015-01-01  \n",
       "3       00:15:00          08:05:00     07:56:00  2015-01-01  \n",
       "4       00:24:00          03:20:00     02:59:00  2015-01-01  "
      ]
     },
     "execution_count": 18,
     "metadata": {},
     "output_type": "execute_result"
    }
   ],
   "source": [
    "categorical_features = [feature for feature in dataset.columns if feature not in numerical_features]\n",
    "\n",
    "print(f'Number of Categorical Features: {len(categorical_features)}')\n",
    "\n",
    "dataset[categorical_features].head()"
   ]
  },
  {
   "cell_type": "markdown",
   "metadata": {},
   "source": [
    "#### There are 10 categorical features, but some of the categorical features are related to datetime. We will ignore those at this moment and focus on the categorical featues and there impact on delay time."
   ]
  },
  {
   "cell_type": "code",
   "execution_count": 19,
   "metadata": {},
   "outputs": [
    {
     "name": "stdout",
     "output_type": "stream",
     "text": [
      "AIRLINE : Number of Features - 14\n",
      "TAIL_NUMBER : Number of Features - 4896\n",
      "ORIGIN_AIRPORT : Number of Features - 929\n",
      "DESTINATION_AIRPORT : Number of Features - 930\n"
     ]
    }
   ],
   "source": [
    "new_categorical_features = ['AIRLINE', 'TAIL_NUMBER', 'ORIGIN_AIRPORT', 'DESTINATION_AIRPORT']\n",
    "\n",
    "for feature in new_categorical_features:\n",
    "    print(f'{feature} : Number of Features - {len(dataset[feature].unique())}')"
   ]
  },
  {
   "cell_type": "markdown",
   "metadata": {},
   "source": [
    "#### There are too many features with tail_numbers, and tail number is associated with a specific airline. At this moment, it would be best if we ignore this feature for now."
   ]
  },
  {
   "cell_type": "markdown",
   "metadata": {},
   "source": [
    "#### At this point, we are going to explore our in the perspective of the airline."
   ]
  },
  {
   "cell_type": "code",
   "execution_count": 20,
   "metadata": {
    "scrolled": false
   },
   "outputs": [
    {
     "data": {
      "text/html": [
       "<div>\n",
       "<style scoped>\n",
       "    .dataframe tbody tr th:only-of-type {\n",
       "        vertical-align: middle;\n",
       "    }\n",
       "\n",
       "    .dataframe tbody tr th {\n",
       "        vertical-align: top;\n",
       "    }\n",
       "\n",
       "    .dataframe thead th {\n",
       "        text-align: right;\n",
       "    }\n",
       "</style>\n",
       "<table border=\"1\" class=\"dataframe\">\n",
       "  <thead>\n",
       "    <tr style=\"text-align: right;\">\n",
       "      <th></th>\n",
       "      <th>DAY_OF_WEEK</th>\n",
       "      <th>FLIGHT_NUMBER</th>\n",
       "      <th>DEPARTURE_DELAY</th>\n",
       "      <th>TAXI_OUT</th>\n",
       "      <th>WHEELS_OFF</th>\n",
       "      <th>SCHEDULED_TIME</th>\n",
       "      <th>ELAPSED_TIME</th>\n",
       "      <th>AIR_TIME</th>\n",
       "      <th>DISTANCE</th>\n",
       "      <th>WHEELS_ON</th>\n",
       "      <th>TAXI_IN</th>\n",
       "      <th>ARRIVAL_DELAY</th>\n",
       "      <th>DIVERTED</th>\n",
       "    </tr>\n",
       "    <tr>\n",
       "      <th>AIRLINE</th>\n",
       "      <th></th>\n",
       "      <th></th>\n",
       "      <th></th>\n",
       "      <th></th>\n",
       "      <th></th>\n",
       "      <th></th>\n",
       "      <th></th>\n",
       "      <th></th>\n",
       "      <th></th>\n",
       "      <th></th>\n",
       "      <th></th>\n",
       "      <th></th>\n",
       "      <th></th>\n",
       "    </tr>\n",
       "  </thead>\n",
       "  <tbody>\n",
       "    <tr>\n",
       "      <th>AA</th>\n",
       "      <td>3.954689</td>\n",
       "      <td>1280.883546</td>\n",
       "      <td>8.864029</td>\n",
       "      <td>17.769120</td>\n",
       "      <td>1339.458248</td>\n",
       "      <td>171.869936</td>\n",
       "      <td>166.433282</td>\n",
       "      <td>139.806208</td>\n",
       "      <td>1042.841275</td>\n",
       "      <td>1486.907721</td>\n",
       "      <td>8.876172</td>\n",
       "      <td>3.451372</td>\n",
       "      <td>0.002979</td>\n",
       "    </tr>\n",
       "    <tr>\n",
       "      <th>AS</th>\n",
       "      <td>3.990585</td>\n",
       "      <td>427.723093</td>\n",
       "      <td>1.778455</td>\n",
       "      <td>15.094197</td>\n",
       "      <td>1343.842132</td>\n",
       "      <td>182.039185</td>\n",
       "      <td>179.339788</td>\n",
       "      <td>157.844784</td>\n",
       "      <td>1198.714766</td>\n",
       "      <td>1491.344739</td>\n",
       "      <td>6.401667</td>\n",
       "      <td>-0.976563</td>\n",
       "      <td>0.002403</td>\n",
       "    </tr>\n",
       "    <tr>\n",
       "      <th>B6</th>\n",
       "      <td>3.998877</td>\n",
       "      <td>910.933353</td>\n",
       "      <td>11.499049</td>\n",
       "      <td>17.872380</td>\n",
       "      <td>1361.281476</td>\n",
       "      <td>172.789411</td>\n",
       "      <td>167.838858</td>\n",
       "      <td>143.858492</td>\n",
       "      <td>1064.453968</td>\n",
       "      <td>1438.586664</td>\n",
       "      <td>6.121373</td>\n",
       "      <td>6.677861</td>\n",
       "      <td>0.002778</td>\n",
       "    </tr>\n",
       "    <tr>\n",
       "      <th>DL</th>\n",
       "      <td>3.911303</td>\n",
       "      <td>1615.984553</td>\n",
       "      <td>7.354815</td>\n",
       "      <td>17.608149</td>\n",
       "      <td>1360.408949</td>\n",
       "      <td>147.634799</td>\n",
       "      <td>140.471965</td>\n",
       "      <td>115.665353</td>\n",
       "      <td>853.873231</td>\n",
       "      <td>1489.333000</td>\n",
       "      <td>7.209058</td>\n",
       "      <td>0.186754</td>\n",
       "      <td>0.002043</td>\n",
       "    </tr>\n",
       "    <tr>\n",
       "      <th>EV</th>\n",
       "      <td>3.905075</td>\n",
       "      <td>4708.870688</td>\n",
       "      <td>8.663310</td>\n",
       "      <td>16.736153</td>\n",
       "      <td>1356.966110</td>\n",
       "      <td>99.214608</td>\n",
       "      <td>97.124247</td>\n",
       "      <td>72.763842</td>\n",
       "      <td>462.121538</td>\n",
       "      <td>1465.295267</td>\n",
       "      <td>7.635511</td>\n",
       "      <td>6.585379</td>\n",
       "      <td>0.003582</td>\n",
       "    </tr>\n",
       "    <tr>\n",
       "      <th>F9</th>\n",
       "      <td>3.973152</td>\n",
       "      <td>819.281524</td>\n",
       "      <td>13.317470</td>\n",
       "      <td>15.674198</td>\n",
       "      <td>1377.926436</td>\n",
       "      <td>155.882003</td>\n",
       "      <td>155.056677</td>\n",
       "      <td>130.240571</td>\n",
       "      <td>967.357759</td>\n",
       "      <td>1471.239086</td>\n",
       "      <td>9.147244</td>\n",
       "      <td>12.504706</td>\n",
       "      <td>0.001751</td>\n",
       "    </tr>\n",
       "    <tr>\n",
       "      <th>HA</th>\n",
       "      <td>4.014862</td>\n",
       "      <td>217.445316</td>\n",
       "      <td>0.483489</td>\n",
       "      <td>10.953483</td>\n",
       "      <td>1321.236988</td>\n",
       "      <td>101.219485</td>\n",
       "      <td>102.672269</td>\n",
       "      <td>84.881314</td>\n",
       "      <td>632.855521</td>\n",
       "      <td>1418.048270</td>\n",
       "      <td>6.841194</td>\n",
       "      <td>2.023093</td>\n",
       "      <td>0.000788</td>\n",
       "    </tr>\n",
       "    <tr>\n",
       "      <th>MQ</th>\n",
       "      <td>3.934966</td>\n",
       "      <td>3313.638131</td>\n",
       "      <td>10.014910</td>\n",
       "      <td>16.548148</td>\n",
       "      <td>1361.638142</td>\n",
       "      <td>96.157614</td>\n",
       "      <td>92.593516</td>\n",
       "      <td>66.979630</td>\n",
       "      <td>423.084683</td>\n",
       "      <td>1454.319725</td>\n",
       "      <td>9.084096</td>\n",
       "      <td>6.457873</td>\n",
       "      <td>0.002918</td>\n",
       "    </tr>\n",
       "    <tr>\n",
       "      <th>NK</th>\n",
       "      <td>4.019094</td>\n",
       "      <td>541.340299</td>\n",
       "      <td>15.911281</td>\n",
       "      <td>14.603710</td>\n",
       "      <td>1376.910267</td>\n",
       "      <td>157.934179</td>\n",
       "      <td>156.503598</td>\n",
       "      <td>132.347886</td>\n",
       "      <td>985.912269</td>\n",
       "      <td>1437.680900</td>\n",
       "      <td>9.556557</td>\n",
       "      <td>14.471800</td>\n",
       "      <td>0.001577</td>\n",
       "    </tr>\n",
       "    <tr>\n",
       "      <th>OO</th>\n",
       "      <td>3.944977</td>\n",
       "      <td>5146.741997</td>\n",
       "      <td>7.768222</td>\n",
       "      <td>18.144059</td>\n",
       "      <td>1368.399491</td>\n",
       "      <td>102.656813</td>\n",
       "      <td>100.724558</td>\n",
       "      <td>75.655010</td>\n",
       "      <td>498.008332</td>\n",
       "      <td>1468.520711</td>\n",
       "      <td>6.933260</td>\n",
       "      <td>5.845652</td>\n",
       "      <td>0.002730</td>\n",
       "    </tr>\n",
       "    <tr>\n",
       "      <th>UA</th>\n",
       "      <td>3.899481</td>\n",
       "      <td>1062.367715</td>\n",
       "      <td>14.379658</td>\n",
       "      <td>17.413798</td>\n",
       "      <td>1345.047169</td>\n",
       "      <td>199.700589</td>\n",
       "      <td>190.745816</td>\n",
       "      <td>164.835886</td>\n",
       "      <td>1272.124961</td>\n",
       "      <td>1458.584704</td>\n",
       "      <td>8.508092</td>\n",
       "      <td>5.431594</td>\n",
       "      <td>0.002726</td>\n",
       "    </tr>\n",
       "    <tr>\n",
       "      <th>US</th>\n",
       "      <td>3.955088</td>\n",
       "      <td>1316.984870</td>\n",
       "      <td>6.110538</td>\n",
       "      <td>19.005420</td>\n",
       "      <td>1357.236406</td>\n",
       "      <td>154.920271</td>\n",
       "      <td>152.402455</td>\n",
       "      <td>125.774234</td>\n",
       "      <td>916.493650</td>\n",
       "      <td>1474.255095</td>\n",
       "      <td>7.631978</td>\n",
       "      <td>3.706209</td>\n",
       "      <td>0.002183</td>\n",
       "    </tr>\n",
       "    <tr>\n",
       "      <th>VX</th>\n",
       "      <td>3.917874</td>\n",
       "      <td>575.062409</td>\n",
       "      <td>9.006274</td>\n",
       "      <td>14.755854</td>\n",
       "      <td>1376.237905</td>\n",
       "      <td>210.024426</td>\n",
       "      <td>205.558435</td>\n",
       "      <td>182.630796</td>\n",
       "      <td>1405.847513</td>\n",
       "      <td>1545.379614</td>\n",
       "      <td>8.186914</td>\n",
       "      <td>4.737706</td>\n",
       "      <td>0.001972</td>\n",
       "    </tr>\n",
       "    <tr>\n",
       "      <th>WN</th>\n",
       "      <td>3.913092</td>\n",
       "      <td>1809.088613</td>\n",
       "      <td>10.571461</td>\n",
       "      <td>11.943616</td>\n",
       "      <td>1362.653806</td>\n",
       "      <td>127.388478</td>\n",
       "      <td>121.201368</td>\n",
       "      <td>103.100485</td>\n",
       "      <td>742.105017</td>\n",
       "      <td>1469.865536</td>\n",
       "      <td>6.167662</td>\n",
       "      <td>4.374964</td>\n",
       "      <td>0.002736</td>\n",
       "    </tr>\n",
       "  </tbody>\n",
       "</table>\n",
       "</div>"
      ],
      "text/plain": [
       "         DAY_OF_WEEK  FLIGHT_NUMBER  DEPARTURE_DELAY   TAXI_OUT   WHEELS_OFF  \\\n",
       "AIRLINE                                                                        \n",
       "AA          3.954689    1280.883546         8.864029  17.769120  1339.458248   \n",
       "AS          3.990585     427.723093         1.778455  15.094197  1343.842132   \n",
       "B6          3.998877     910.933353        11.499049  17.872380  1361.281476   \n",
       "DL          3.911303    1615.984553         7.354815  17.608149  1360.408949   \n",
       "EV          3.905075    4708.870688         8.663310  16.736153  1356.966110   \n",
       "F9          3.973152     819.281524        13.317470  15.674198  1377.926436   \n",
       "HA          4.014862     217.445316         0.483489  10.953483  1321.236988   \n",
       "MQ          3.934966    3313.638131        10.014910  16.548148  1361.638142   \n",
       "NK          4.019094     541.340299        15.911281  14.603710  1376.910267   \n",
       "OO          3.944977    5146.741997         7.768222  18.144059  1368.399491   \n",
       "UA          3.899481    1062.367715        14.379658  17.413798  1345.047169   \n",
       "US          3.955088    1316.984870         6.110538  19.005420  1357.236406   \n",
       "VX          3.917874     575.062409         9.006274  14.755854  1376.237905   \n",
       "WN          3.913092    1809.088613        10.571461  11.943616  1362.653806   \n",
       "\n",
       "         SCHEDULED_TIME  ELAPSED_TIME    AIR_TIME     DISTANCE    WHEELS_ON  \\\n",
       "AIRLINE                                                                       \n",
       "AA           171.869936    166.433282  139.806208  1042.841275  1486.907721   \n",
       "AS           182.039185    179.339788  157.844784  1198.714766  1491.344739   \n",
       "B6           172.789411    167.838858  143.858492  1064.453968  1438.586664   \n",
       "DL           147.634799    140.471965  115.665353   853.873231  1489.333000   \n",
       "EV            99.214608     97.124247   72.763842   462.121538  1465.295267   \n",
       "F9           155.882003    155.056677  130.240571   967.357759  1471.239086   \n",
       "HA           101.219485    102.672269   84.881314   632.855521  1418.048270   \n",
       "MQ            96.157614     92.593516   66.979630   423.084683  1454.319725   \n",
       "NK           157.934179    156.503598  132.347886   985.912269  1437.680900   \n",
       "OO           102.656813    100.724558   75.655010   498.008332  1468.520711   \n",
       "UA           199.700589    190.745816  164.835886  1272.124961  1458.584704   \n",
       "US           154.920271    152.402455  125.774234   916.493650  1474.255095   \n",
       "VX           210.024426    205.558435  182.630796  1405.847513  1545.379614   \n",
       "WN           127.388478    121.201368  103.100485   742.105017  1469.865536   \n",
       "\n",
       "          TAXI_IN  ARRIVAL_DELAY  DIVERTED  \n",
       "AIRLINE                                     \n",
       "AA       8.876172       3.451372  0.002979  \n",
       "AS       6.401667      -0.976563  0.002403  \n",
       "B6       6.121373       6.677861  0.002778  \n",
       "DL       7.209058       0.186754  0.002043  \n",
       "EV       7.635511       6.585379  0.003582  \n",
       "F9       9.147244      12.504706  0.001751  \n",
       "HA       6.841194       2.023093  0.000788  \n",
       "MQ       9.084096       6.457873  0.002918  \n",
       "NK       9.556557      14.471800  0.001577  \n",
       "OO       6.933260       5.845652  0.002730  \n",
       "UA       8.508092       5.431594  0.002726  \n",
       "US       7.631978       3.706209  0.002183  \n",
       "VX       8.186914       4.737706  0.001972  \n",
       "WN       6.167662       4.374964  0.002736  "
      ]
     },
     "execution_count": 20,
     "metadata": {},
     "output_type": "execute_result"
    }
   ],
   "source": [
    "airlines = dataset.groupby('AIRLINE').mean()\n",
    "airlines"
   ]
  },
  {
   "cell_type": "code",
   "execution_count": 26,
   "metadata": {
    "scrolled": false
   },
   "outputs": [
    {
     "data": {
      "text/html": [
       "<div>\n",
       "<style scoped>\n",
       "    .dataframe tbody tr th:only-of-type {\n",
       "        vertical-align: middle;\n",
       "    }\n",
       "\n",
       "    .dataframe tbody tr th {\n",
       "        vertical-align: top;\n",
       "    }\n",
       "\n",
       "    .dataframe thead th {\n",
       "        text-align: right;\n",
       "    }\n",
       "</style>\n",
       "<table border=\"1\" class=\"dataframe\">\n",
       "  <thead>\n",
       "    <tr style=\"text-align: right;\">\n",
       "      <th></th>\n",
       "      <th>Total Number of Flights</th>\n",
       "      <th>Count of Delayed Airlines</th>\n",
       "      <th>Percentage Delayed</th>\n",
       "    </tr>\n",
       "    <tr>\n",
       "      <th>AIRLINE</th>\n",
       "      <th></th>\n",
       "      <th></th>\n",
       "      <th></th>\n",
       "    </tr>\n",
       "  </thead>\n",
       "  <tbody>\n",
       "    <tr>\n",
       "      <th>UA</th>\n",
       "      <td>509150</td>\n",
       "      <td>256241</td>\n",
       "      <td>50.3272</td>\n",
       "    </tr>\n",
       "    <tr>\n",
       "      <th>WN</th>\n",
       "      <td>1245812</td>\n",
       "      <td>566583</td>\n",
       "      <td>45.4790</td>\n",
       "    </tr>\n",
       "    <tr>\n",
       "      <th>NK</th>\n",
       "      <td>115375</td>\n",
       "      <td>52033</td>\n",
       "      <td>45.0990</td>\n",
       "    </tr>\n",
       "    <tr>\n",
       "      <th>B6</th>\n",
       "      <td>262772</td>\n",
       "      <td>102012</td>\n",
       "      <td>38.8215</td>\n",
       "    </tr>\n",
       "    <tr>\n",
       "      <th>F9</th>\n",
       "      <td>90248</td>\n",
       "      <td>34859</td>\n",
       "      <td>38.6258</td>\n",
       "    </tr>\n",
       "    <tr>\n",
       "      <th>VX</th>\n",
       "      <td>61369</td>\n",
       "      <td>23366</td>\n",
       "      <td>38.0746</td>\n",
       "    </tr>\n",
       "    <tr>\n",
       "      <th>AA</th>\n",
       "      <td>715065</td>\n",
       "      <td>245550</td>\n",
       "      <td>34.3395</td>\n",
       "    </tr>\n",
       "    <tr>\n",
       "      <th>MQ</th>\n",
       "      <td>279607</td>\n",
       "      <td>93232</td>\n",
       "      <td>33.3439</td>\n",
       "    </tr>\n",
       "    <tr>\n",
       "      <th>DL</th>\n",
       "      <td>872057</td>\n",
       "      <td>282385</td>\n",
       "      <td>32.3815</td>\n",
       "    </tr>\n",
       "    <tr>\n",
       "      <th>US</th>\n",
       "      <td>194648</td>\n",
       "      <td>62452</td>\n",
       "      <td>32.0846</td>\n",
       "    </tr>\n",
       "    <tr>\n",
       "      <th>EV</th>\n",
       "      <td>556746</td>\n",
       "      <td>169503</td>\n",
       "      <td>30.4453</td>\n",
       "    </tr>\n",
       "    <tr>\n",
       "      <th>OO</th>\n",
       "      <td>578393</td>\n",
       "      <td>171181</td>\n",
       "      <td>29.5960</td>\n",
       "    </tr>\n",
       "    <tr>\n",
       "      <th>HA</th>\n",
       "      <td>76101</td>\n",
       "      <td>20140</td>\n",
       "      <td>26.4648</td>\n",
       "    </tr>\n",
       "    <tr>\n",
       "      <th>AS</th>\n",
       "      <td>171852</td>\n",
       "      <td>43541</td>\n",
       "      <td>25.3363</td>\n",
       "    </tr>\n",
       "  </tbody>\n",
       "</table>\n",
       "</div>"
      ],
      "text/plain": [
       "         Total Number of Flights  Count of Delayed Airlines  \\\n",
       "AIRLINE                                                       \n",
       "UA                        509150                     256241   \n",
       "WN                       1245812                     566583   \n",
       "NK                        115375                      52033   \n",
       "B6                        262772                     102012   \n",
       "F9                         90248                      34859   \n",
       "VX                         61369                      23366   \n",
       "AA                        715065                     245550   \n",
       "MQ                        279607                      93232   \n",
       "DL                        872057                     282385   \n",
       "US                        194648                      62452   \n",
       "EV                        556746                     169503   \n",
       "OO                        578393                     171181   \n",
       "HA                         76101                      20140   \n",
       "AS                        171852                      43541   \n",
       "\n",
       "         Percentage Delayed  \n",
       "AIRLINE                      \n",
       "UA                  50.3272  \n",
       "WN                  45.4790  \n",
       "NK                  45.0990  \n",
       "B6                  38.8215  \n",
       "F9                  38.6258  \n",
       "VX                  38.0746  \n",
       "AA                  34.3395  \n",
       "MQ                  33.3439  \n",
       "DL                  32.3815  \n",
       "US                  32.0846  \n",
       "EV                  30.4453  \n",
       "OO                  29.5960  \n",
       "HA                  26.4648  \n",
       "AS                  25.3363  "
      ]
     },
     "execution_count": 26,
     "metadata": {},
     "output_type": "execute_result"
    }
   ],
   "source": [
    "# Count the number of flights for each airline\n",
    "total_flights_by_airline = dataset.groupby('AIRLINE')['FLIGHT_NUMBER'].count()\n",
    "number_delay_by_airline = dataset[dataset.DEPARTURE_DELAY > 0].groupby('AIRLINE')['DEPARTURE_DELAY'].count()\n",
    "delay_percentage = np.round((number_delay_by_airline / total_flights_by_airline) * 100, 4)\n",
    "delay_frame = pd.DataFrame({'Total Number of Flights': total_flights_by_airline, 'Count of Delayed Airlines': number_delay_by_airline, 'Percentage Delayed': delay_percentage.values})\n",
    "delay_frame.sort_values(by='Percentage Delayed', ascending=False)"
   ]
  },
  {
   "cell_type": "markdown",
   "metadata": {},
   "source": [
    "#### From this table, we see the amount of flights get delayed. This still does not really give us the whole picture, since in this chart we value delaying by 1 minute and 1hr the same. We can probably further split the data to give us a better overview of the situation."
   ]
  },
  {
   "cell_type": "code",
   "execution_count": 42,
   "metadata": {
    "scrolled": true
   },
   "outputs": [
    {
     "data": {
      "text/plain": [
       "count    2.123078e+06\n",
       "mean     3.260838e+01\n",
       "std      5.305559e+01\n",
       "min      1.000000e+00\n",
       "25%      5.000000e+00\n",
       "50%      1.400000e+01\n",
       "75%      3.800000e+01\n",
       "max      1.988000e+03\n",
       "Name: DEPARTURE_DELAY, dtype: float64"
      ]
     },
     "execution_count": 42,
     "metadata": {},
     "output_type": "execute_result"
    }
   ],
   "source": [
    "dataset[dataset.DEPARTURE_DELAY > 0]['DEPARTURE_DELAY'].describe()"
   ]
  },
  {
   "cell_type": "markdown",
   "metadata": {},
   "source": [
    "#### We can see that the 3rd quartile is 38 minutes. So for the flights that was actually delayed, 75% of them is 38 minutes and under. It would be interesting to see which airline is has the most impact on 75% and above."
   ]
  },
  {
   "cell_type": "code",
   "execution_count": 45,
   "metadata": {},
   "outputs": [
    {
     "data": {
      "image/png": "[encoded data removed]",
      "text/plain": [
       "<Figure size 360x360 with 1 Axes>"
      ]
     },
     "metadata": {},
     "output_type": "display_data"
    }
   ],
   "source": [
    "delay_dataset = dataset[dataset.DEPARTURE_DELAY > 38]\n",
    "sns.catplot(x='DEPARTURE_DELAY' , y='AIRLINE' , data=delay_dataset)\n",
    "plt.show()"
   ]
  },
  {
   "cell_type": "markdown",
   "metadata": {},
   "source": [
    "#### This is pretty interesting. It is very hard to tell who actually has the most amount of delay about 38 mins from this graph, but we can see that some of these airlines hold a huge spread. We can definitely see that AA, had many instances where they have delays over 1250 mins, which is approximately 20 hours."
   ]
  },
  {
   "cell_type": "code",
   "execution_count": 46,
   "metadata": {},
   "outputs": [
    {
     "data": {
      "image/png": "[encoded data removed]",
      "text/plain": [
       "<Figure size 360x360 with 1 Axes>"
      ]
     },
     "metadata": {},
     "output_type": "display_data"
    }
   ],
   "source": [
    "delay_dataset = dataset[dataset.DEPARTURE_DELAY > 750]\n",
    "sns.catplot(x='DEPARTURE_DELAY' , y='AIRLINE' , data=delay_dataset)\n",
    "plt.show()"
   ]
  },
  {
   "cell_type": "code",
   "execution_count": 51,
   "metadata": {},
   "outputs": [
    {
     "data": {
      "text/plain": [
       "<matplotlib.axes._subplots.AxesSubplot at 0x2ad786307c8>"
      ]
     },
     "execution_count": 51,
     "metadata": {},
     "output_type": "execute_result"
    },
    {
     "data": {
      "image/png": "[encoded data removed]",
      "text/plain": [
       "<Figure size 432x288 with 2 Axes>"
      ]
     },
     "metadata": {},
     "output_type": "display_data"
    }
   ],
   "source": [
    "delay_dataset = dataset[dataset.DEPARTURE_DELAY > 0]\n",
    "corr = delay_dataset.corr()\n",
    "sns.heatmap(corr)"
   ]
  },
  {
   "cell_type": "markdown",
   "metadata": {},
   "source": [
    "#### After performing a heat map, we can see what mainly Departure_Delay is highly correlated with Arrival_Daily. \n",
    "\n",
    "#### Problem - Correlation Matrix can only take numerical values in consideration. Categorical Values can potential make an impact."
   ]
  },
  {
   "cell_type": "markdown",
   "metadata": {},
   "source": [
    "#### Could Airport Play a Role in the Delay?"
   ]
  },
  {
   "cell_type": "code",
   "execution_count": 75,
   "metadata": {},
   "outputs": [
    {
     "data": {
      "text/plain": [
       "ORIGIN_AIRPORT  AIRLINE\n",
       "10154           B6         55.461538\n",
       "10157           OO         53.828571\n",
       "10146           EV         53.100000\n",
       "10136           MQ         50.823529\n",
       "10135           EV         46.080645\n",
       "10140           AA         43.209302\n",
       "10165           AS         36.800000\n",
       "10140           B6         33.473684\n",
       "                OO         27.775000\n",
       "10155           EV         25.428571\n",
       "10158           NK         23.479167\n",
       "10170           AS         23.166667\n",
       "10135           DL         21.333333\n",
       "10141           OO         20.400000\n",
       "10140           WN         19.797917\n",
       "                UA         17.428571\n",
       "                MQ         15.272727\n",
       "                EV         12.000000\n",
       "                DL         11.454545\n",
       "                AS          8.250000\n",
       "Name: DEPARTURE_DELAY, dtype: float64"
      ]
     },
     "execution_count": 75,
     "metadata": {},
     "output_type": "execute_result"
    }
   ],
   "source": [
    "#origin_df = delay_dataset.groupby(['ORIGIN_AIRPORT', 'AIRLINE'])['DEPARTURE_DELAY'].sum().reset_index()\n",
    "origin_df = delay_dataset.groupby(['ORIGIN_AIRPORT', 'AIRLINE'])['DEPARTURE_DELAY'].mean()\n",
    "origin_df.head(20).sort_values(ascending=False)"
   ]
  },
  {
   "cell_type": "code",
   "execution_count": 64,
   "metadata": {},
   "outputs": [],
   "source": [
    "origin_airport = origin_df.pivot('ORIGIN_AIRPORT', 'AIRLINE', 'DEPARTURE_DELAY')"
   ]
  },
  {
   "cell_type": "code",
   "execution_count": 74,
   "metadata": {},
   "outputs": [],
   "source": [
    "# Draw a heatmap with the numeric values in each cell\n",
    "#f, ax = plt.subplots(figsize=(9, 6))\n",
    "#sns.heatmap(origin_airport, annot=True, fmt=\"f\", linewidths=.5, ax=ax)\n",
    "#plt.show()"
   ]
  },
  {
   "cell_type": "markdown",
   "metadata": {},
   "source": [
    "#### Impact of Flight Routes?"
   ]
  },
  {
   "cell_type": "code",
   "execution_count": 78,
   "metadata": {},
   "outputs": [
    {
     "data": {
      "text/plain": [
       "ORIGIN_AIRPORT  DESTINATION_AIRPORT\n",
       "10135           11433                  51.120000\n",
       "10136           11298                  50.823529\n",
       "10135           13930                  44.904762\n",
       "10140           11298                  43.209302\n",
       "10135           10397                  34.727273\n",
       "10140           12478                  33.473684\n",
       "                12892                  32.196429\n",
       "                11292                  23.214286\n",
       "                13198                  22.695652\n",
       "                14057                  22.200000\n",
       "                11259                  18.656250\n",
       "                12889                  18.232143\n",
       "                13930                  17.941176\n",
       "                13796                  17.027027\n",
       "                13232                  16.960000\n",
       "                13487                  14.250000\n",
       "                12266                  14.076923\n",
       "                12191                  12.303030\n",
       "                10397                  11.411765\n",
       "                10821                  10.964286\n",
       "Name: DEPARTURE_DELAY, dtype: float64"
      ]
     },
     "execution_count": 78,
     "metadata": {},
     "output_type": "execute_result"
    }
   ],
   "source": [
    "route_mean = delay_dataset.groupby(['ORIGIN_AIRPORT', 'DESTINATION_AIRPORT'])['DEPARTURE_DELAY'].mean()\n",
    "route_std = delay_dataset.groupby(['ORIGIN_AIRPORT', 'DESTINATION_AIRPORT'])['DEPARTURE_DELAY'].std()"
   ]
  },
  {
   "cell_type": "code",
   "execution_count": 80,
   "metadata": {},
   "outputs": [
    {
     "data": {
      "text/plain": [
       "ORIGIN_AIRPORT  DESTINATION_AIRPORT\n",
       "10135           11433                  51.120000\n",
       "10136           11298                  50.823529\n",
       "10135           13930                  44.904762\n",
       "10140           11298                  43.209302\n",
       "10135           10397                  34.727273\n",
       "10140           11292                  23.214286\n",
       "                11259                  18.656250\n",
       "                12191                  12.303030\n",
       "                10397                  11.411765\n",
       "                10821                  10.964286\n",
       "Name: DEPARTURE_DELAY, dtype: float64"
      ]
     },
     "execution_count": 80,
     "metadata": {},
     "output_type": "execute_result"
    }
   ],
   "source": [
    "route_mean.head(10).sort_values(ascending=False)"
   ]
  },
  {
   "cell_type": "code",
   "execution_count": 81,
   "metadata": {},
   "outputs": [
    {
     "data": {
      "text/plain": [
       "ORIGIN_AIRPORT  DESTINATION_AIRPORT\n",
       "10135           13930                  94.622357\n",
       "10140           11298                  77.261941\n",
       "10135           11433                  66.656032\n",
       "10136           11298                  66.318547\n",
       "10135           10397                  48.193244\n",
       "10140           11292                  33.088328\n",
       "                11259                  24.072786\n",
       "                10821                  20.249339\n",
       "                10397                  15.215366\n",
       "                12191                  11.424986\n",
       "Name: DEPARTURE_DELAY, dtype: float64"
      ]
     },
     "execution_count": 81,
     "metadata": {},
     "output_type": "execute_result"
    }
   ],
   "source": [
    "route_std.head(10).sort_values(ascending=False)"
   ]
  },
  {
   "cell_type": "code",
   "execution_count": null,
   "metadata": {},
   "outputs": [],
   "source": []
  }
 ],
 "metadata": {
  "kernelspec": {
   "display_name": "Python 3",
   "language": "python",
   "name": "python3"
  },
  "language_info": {
   "codemirror_mode": {
    "name": "ipython",
    "version": 3
   },
   "file_extension": ".py",
   "mimetype": "text/x-python",
   "name": "python",
   "nbconvert_exporter": "python",
   "pygments_lexer": "ipython3",
   "version": "3.7.6"
  }
 },
 "nbformat": 4,
 "nbformat_minor": 4
}
